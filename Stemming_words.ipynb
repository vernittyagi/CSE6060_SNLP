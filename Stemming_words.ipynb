{
 "cells": [
  {
   "cell_type": "code",
   "execution_count": 2,
   "metadata": {},
   "outputs": [
    {
     "name": "stdout",
     "output_type": "stream",
     "text": [
      "code  :  code\n",
      "codes  :  code\n",
      "coder  :  coder\n",
      "coding  :  code\n",
      "coders  :  coder\n"
     ]
    }
   ],
   "source": [
    "from nltk.stem import PorterStemmer\n",
    "from nltk.tokenize import word_tokenize\n",
    "\n",
    "ps = PorterStemmer()\n",
    " \n",
    "#Choosing some words to be stemmed\n",
    "words = [\"code\",\"codes\",\"coder\",\"coding\",\"coders\"]\n",
    "for w in words:\n",
    "    print(w,\" : \", ps.stem(w))"
   ]
  },
  {
   "cell_type": "code",
   "execution_count": 4,
   "metadata": {},
   "outputs": [
    {
     "name": "stdout",
     "output_type": "stream",
     "text": [
      "Coders code with coding languages\n",
      "['Coders', 'code', 'with', 'coding', 'languages']\n"
     ]
    }
   ],
   "source": [
    "#Stemming the words from sentences\n",
    "#Tokenizing the words in the sentence\n",
    "#printing the sentence and words\n",
    "sentence = \"Coders code with coding languages\"\n",
    "words = word_tokenize(sentence)\n",
    "print(sentence)\n",
    "print(words)"
   ]
  },
  {
   "cell_type": "code",
   "execution_count": 5,
   "metadata": {},
   "outputs": [
    {
     "name": "stdout",
     "output_type": "stream",
     "text": [
      "Coders  :  coder\n",
      "code  :  code\n",
      "with  :  with\n",
      "coding  :  code\n",
      "languages  :  languag\n"
     ]
    }
   ],
   "source": [
    "#performing stemming on the words in the sentence and printing\n",
    "for w in words:\n",
    "    print(w,\" : \", ps.stem(w))"
   ]
  },
  {
   "cell_type": "markdown",
   "metadata": {},
   "source": [
    "# Snowball Stemmer"
   ]
  },
  {
   "cell_type": "code",
   "execution_count": 8,
   "metadata": {},
   "outputs": [
    {
     "data": {
      "text/plain": [
       "'regard'"
      ]
     },
     "execution_count": 8,
     "metadata": {},
     "output_type": "execute_result"
    }
   ],
   "source": [
    "from nltk.stem.snowball import SnowballStemmer\n",
    "frenchstemmer=SnowballStemmer(\"french\",ignore_stopwords=True)\n",
    "frenchstemmer.stem(\"regarder\")"
   ]
  },
  {
   "cell_type": "code",
   "execution_count": 9,
   "metadata": {},
   "outputs": [],
   "source": [
    "txt = \"Je m’appelle Marie. Ma famille se compose de quatre personnes. Mon mari et moi avons deux enfants, une fille de sept ans et un garçon de trois ans. Nous avons également des animaux : un chat, un chien, deux lapins et des poissons rouges. Nous vivons dans une jolie maison avec un grand jardin. Notre quartier est calme et paisible. Je suis secrétaire et je m’occupe de mes deux enfants quand ils rentrent de l’école. Mon mari est professeur d’anglais dans une école qui se trouve à 20 kilomètres de la maison. Le dimanche, nous aimons nous promener en famille dans la forêt proche de notre maison et faire des jeux. Nous jouons dans le jardin quand il fait beau ou dans la maison quand il pleut.\""
   ]
  },
  {
   "cell_type": "code",
   "execution_count": 10,
   "metadata": {},
   "outputs": [
    {
     "data": {
      "text/plain": [
       "'je m’appelle marie. ma famille se compose de quatre personnes. mon mari et moi avons deux enfants, une fille de sept ans et un garçon de trois ans. nous avons également des animaux : un chat, un chien, deux lapins et des poissons rouges. nous vivons dans une jolie maison avec un grand jardin. notre quartier est calme et paisible. je suis secrétaire et je m’occupe de mes deux enfants quand ils rentrent de l’école. mon mari est professeur d’anglais dans une école qui se trouve à 20 kilomètres de la maison. le dimanche, nous aimons nous promener en famille dans la forêt proche de notre maison et faire des jeux. nous jouons dans le jardin quand il fait beau ou dans la maison quand il pleut.'"
      ]
     },
     "execution_count": 10,
     "metadata": {},
     "output_type": "execute_result"
    }
   ],
   "source": [
    "frenchstemmer.stem(txt)"
   ]
  },
  {
   "cell_type": "code",
   "execution_count": 12,
   "metadata": {},
   "outputs": [
    {
     "data": {
      "text/plain": [
       "'nous regardons tel'"
      ]
     },
     "execution_count": 12,
     "metadata": {},
     "output_type": "execute_result"
    }
   ],
   "source": [
    "frenchstemmer.stem(\"nous regardons tele\")"
   ]
  },
  {
   "cell_type": "code",
   "execution_count": null,
   "metadata": {},
   "outputs": [],
   "source": []
  }
 ],
 "metadata": {
  "kernelspec": {
   "display_name": "Python 3",
   "language": "python",
   "name": "python3"
  },
  "language_info": {
   "codemirror_mode": {
    "name": "ipython",
    "version": 3
   },
   "file_extension": ".py",
   "mimetype": "text/x-python",
   "name": "python",
   "nbconvert_exporter": "python",
   "pygments_lexer": "ipython3",
   "version": "3.7.3"
  }
 },
 "nbformat": 4,
 "nbformat_minor": 2
}
